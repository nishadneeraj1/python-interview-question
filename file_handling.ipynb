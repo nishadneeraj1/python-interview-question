{
 "cells": [
  {
   "cell_type": "code",
   "execution_count": null,
   "id": "249238e3",
   "metadata": {},
   "outputs": [],
   "source": [
    "with open(\"file1.txt\",\"w\")  as f:\n",
    "    f.write(\"The world is one big data problem\")"
   ]
  },
  {
   "cell_type": "code",
   "execution_count": null,
   "id": "9d914ad7",
   "metadata": {},
   "outputs": [],
   "source": [
    "with open(\"file1.txt\",\"r\") as f:\n",
    "    for line in f:\n",
    "        for word in line.split():\n",
    "            print(word)"
   ]
  },
  {
   "cell_type": "code",
   "execution_count": null,
   "id": "47c515dc",
   "metadata": {},
   "outputs": [],
   "source": [
    "with open(\"file1.txt\",\"r\") as f:\n",
    "    for line in f:\n",
    "        for word in line.split():\n",
    "            \n",
    "                print(i)"
   ]
  },
  {
   "cell_type": "code",
   "execution_count": null,
   "id": "95ef6965",
   "metadata": {},
   "outputs": [],
   "source": [
    "f= open(\"file1.txt\",\"r\")\n",
    "while 1:\n",
    "    char=f.read(1)\n",
    "    if not char:\n",
    "        break\n",
    "    print(char)\n",
    "f.close()"
   ]
  },
  {
   "cell_type": "code",
   "execution_count": null,
   "id": "34ad95d5",
   "metadata": {},
   "outputs": [],
   "source": [
    "def count(file_path):\n",
    "    char=words=lines=spaces=0\n",
    "    with open(file_path,\"r\") as file:\n",
    "        for line in file:\n",
    "            lines+=1\n",
    "            char+=len(line)\n",
    "            words+=len(line.split())\n",
    "            spaces+=line.count(' ')\n",
    "    return char,words,lines,spaces     "
   ]
  },
  {
   "cell_type": "code",
   "execution_count": null,
   "id": "da94ba04",
   "metadata": {},
   "outputs": [],
   "source": [
    "count(\"file1.txt\")"
   ]
  },
  {
   "cell_type": "code",
   "execution_count": null,
   "id": "25efa54f",
   "metadata": {},
   "outputs": [],
   "source": [
    "def swap(lst):\n",
    "    temp=0\n",
    "    temp=lst[0]\n",
    "    lst[0]=lst[-1]\n",
    "    lst[-1]=temp\n",
    "    return lst"
   ]
  },
  {
   "cell_type": "code",
   "execution_count": 1,
   "id": "726c4665",
   "metadata": {},
   "outputs": [],
   "source": [
    "lst=[1,2,3,4]"
   ]
  },
  {
   "cell_type": "code",
   "execution_count": null,
   "id": "93ca65c3",
   "metadata": {},
   "outputs": [],
   "source": [
    "swap(lst)"
   ]
  },
  {
   "cell_type": "code",
   "execution_count": null,
   "id": "c037ffb3",
   "metadata": {},
   "outputs": [],
   "source": [
    "def swap(lst,pos1,pos2):\n",
    "    temp=0\n",
    "    temp=lst[pos1]\n",
    "    lst[pos1]=lst[pos2]\n",
    "    lst[pos2]=temp\n",
    "    return lst"
   ]
  },
  {
   "cell_type": "code",
   "execution_count": null,
   "id": "eb0c96c8",
   "metadata": {},
   "outputs": [],
   "source": [
    "swap([4, 2, 1, 3],2,3)"
   ]
  },
  {
   "cell_type": "code",
   "execution_count": 2,
   "id": "7b2c9a48",
   "metadata": {},
   "outputs": [
    {
     "data": {
      "text/plain": [
       "[1, 2, 3, 4]"
      ]
     },
     "execution_count": 2,
     "metadata": {},
     "output_type": "execute_result"
    }
   ],
   "source": [
    "lst"
   ]
  },
  {
   "cell_type": "code",
   "execution_count": 3,
   "id": "eef33ae4",
   "metadata": {},
   "outputs": [
    {
     "data": {
      "text/plain": [
       "4"
      ]
     },
     "execution_count": 3,
     "metadata": {},
     "output_type": "execute_result"
    }
   ],
   "source": [
    "len(lst)"
   ]
  },
  {
   "cell_type": "code",
   "execution_count": 11,
   "id": "94ac1057",
   "metadata": {},
   "outputs": [
    {
     "name": "stdout",
     "output_type": "stream",
     "text": [
      "4\n"
     ]
    }
   ],
   "source": [
    "counter=0\n",
    "s=str(lst)\n",
    "for i in lst:\n",
    "    counter+=1\n",
    "print(counter)"
   ]
  },
  {
   "cell_type": "code",
   "execution_count": 7,
   "id": "24a290e5",
   "metadata": {},
   "outputs": [
    {
     "name": "stdout",
     "output_type": "stream",
     "text": [
      "enter the input: neer\n",
      "not a palindrome\n"
     ]
    }
   ],
   "source": [
    "def palindrome(word):\n",
    "    return word==word[::-1]\n",
    "word=input(\"enter the input: \")\n",
    "result=palindrome(word)\n",
    "if result:\n",
    "    print(\"palindrome\")\n",
    "else:\n",
    "    print(\"not a palindrome\")"
   ]
  },
  {
   "cell_type": "code",
   "execution_count": 8,
   "id": "b88c8461",
   "metadata": {},
   "outputs": [
    {
     "data": {
      "text/plain": [
       "'jareen'"
      ]
     },
     "execution_count": 8,
     "metadata": {},
     "output_type": "execute_result"
    }
   ],
   "source": [
    "s='neeraj'\n",
    "s[::-1]"
   ]
  },
  {
   "cell_type": "code",
   "execution_count": 9,
   "id": "eb19e575",
   "metadata": {},
   "outputs": [
    {
     "data": {
      "text/plain": [
       "'neeraj'"
      ]
     },
     "execution_count": 9,
     "metadata": {},
     "output_type": "execute_result"
    }
   ],
   "source": [
    "s"
   ]
  },
  {
   "cell_type": "code",
   "execution_count": 12,
   "id": "5249cc2c",
   "metadata": {},
   "outputs": [
    {
     "data": {
      "text/plain": [
       "'neraj'"
      ]
     },
     "execution_count": 12,
     "metadata": {},
     "output_type": "execute_result"
    }
   ],
   "source": [
    "s.replace('e','',1)"
   ]
  },
  {
   "cell_type": "code",
   "execution_count": 59,
   "id": "7f42367a",
   "metadata": {},
   "outputs": [],
   "source": [
    "def remove(s,i):\n",
    "    if i==0:\n",
    "        return s[1:]\n",
    "    else:\n",
    "        return s[:i]+s[i+1:]"
   ]
  },
  {
   "cell_type": "code",
   "execution_count": 60,
   "id": "8da2e941",
   "metadata": {},
   "outputs": [
    {
     "name": "stdout",
     "output_type": "stream",
     "text": [
      "enter the inputneeraj\n",
      "enter the index4\n"
     ]
    },
    {
     "data": {
      "text/plain": [
       "'neeaj'"
      ]
     },
     "execution_count": 60,
     "metadata": {},
     "output_type": "execute_result"
    }
   ],
   "source": [
    "s=input(\"enter the input\")\n",
    "i=int(input(\"enter the index\"))-1\n",
    "remove(s,i)"
   ]
  },
  {
   "cell_type": "code",
   "execution_count": 52,
   "id": "3d04796c",
   "metadata": {},
   "outputs": [
    {
     "data": {
      "text/plain": [
       "'neeaj'"
      ]
     },
     "execution_count": 52,
     "metadata": {},
     "output_type": "execute_result"
    }
   ],
   "source": [
    "remove(s,3)"
   ]
  },
  {
   "cell_type": "code",
   "execution_count": 61,
   "id": "8d38db38",
   "metadata": {},
   "outputs": [],
   "source": [
    "s='neeraj'\n",
    "counter=0\n",
    "for i in s:\n",
    "    counter+=1"
   ]
  },
  {
   "cell_type": "code",
   "execution_count": 62,
   "id": "450d190c",
   "metadata": {},
   "outputs": [
    {
     "data": {
      "text/plain": [
       "6"
      ]
     },
     "execution_count": 62,
     "metadata": {},
     "output_type": "execute_result"
    }
   ],
   "source": [
    "counter"
   ]
  },
  {
   "cell_type": "code",
   "execution_count": 63,
   "id": "6ba3a608",
   "metadata": {},
   "outputs": [
    {
     "data": {
      "text/plain": [
       "<function str.count>"
      ]
     },
     "execution_count": 63,
     "metadata": {},
     "output_type": "execute_result"
    }
   ],
   "source": [
    "s.count()"
   ]
  },
  {
   "cell_type": "code",
   "execution_count": 71,
   "id": "87075870",
   "metadata": {},
   "outputs": [
    {
     "name": "stdout",
     "output_type": "stream",
     "text": [
      "is\n",
      "data\n"
     ]
    }
   ],
   "source": [
    "s='the world is one big data problem'\n",
    "a=s.split(\" \")\n",
    "for i in a:\n",
    "    if len(i)%2==0:\n",
    "        print(i)"
   ]
  },
  {
   "cell_type": "code",
   "execution_count": 76,
   "id": "31d29cd3",
   "metadata": {},
   "outputs": [
    {
     "data": {
      "text/plain": [
       "48"
      ]
     },
     "execution_count": 76,
     "metadata": {},
     "output_type": "execute_result"
    }
   ],
   "source": [
    "t=(1,2,'neeraj')\n",
    "t.__sizeof__()"
   ]
  },
  {
   "cell_type": "code",
   "execution_count": 80,
   "id": "78ff6070",
   "metadata": {},
   "outputs": [
    {
     "name": "stdout",
     "output_type": "stream",
     "text": [
      "10\n"
     ]
    }
   ],
   "source": [
    "t1=(1,2,3,4)\n",
    "sum=0\n",
    "for i in t1:\n",
    "    sum+=i\n",
    "print(sum)"
   ]
  },
  {
   "cell_type": "code",
   "execution_count": 82,
   "id": "44d99627",
   "metadata": {},
   "outputs": [
    {
     "data": {
      "text/plain": [
       "{'banana': 10, 'apple': 15, 'cherry': 20}"
      ]
     },
     "execution_count": 82,
     "metadata": {},
     "output_type": "execute_result"
    }
   ],
   "source": [
    "d = {'apple': 15, 'banana': 10, 'cherry': 20}\n",
    "sorted_d = dict(sorted(d.items(), key=lambda item: item[1]))\n",
    "sorted_d"
   ]
  },
  {
   "cell_type": "code",
   "execution_count": 83,
   "id": "6aca3d97",
   "metadata": {},
   "outputs": [
    {
     "data": {
      "text/plain": [
       "{'banana': 10, 'apple': 15, 'cherry': 20}"
      ]
     },
     "execution_count": 83,
     "metadata": {},
     "output_type": "execute_result"
    }
   ],
   "source": [
    "dict(sorted(d.items(),key=lambda item:item[1]))"
   ]
  },
  {
   "cell_type": "code",
   "execution_count": 84,
   "id": "434bb168",
   "metadata": {},
   "outputs": [
    {
     "data": {
      "text/plain": [
       "dict_items([('apple', 15), ('banana', 10), ('cherry', 20)])"
      ]
     },
     "execution_count": 84,
     "metadata": {},
     "output_type": "execute_result"
    }
   ],
   "source": [
    "d.items()"
   ]
  },
  {
   "cell_type": "code",
   "execution_count": 86,
   "id": "9ed490ea",
   "metadata": {},
   "outputs": [
    {
     "name": "stdout",
     "output_type": "stream",
     "text": [
      "[1, 2, 3] is a list\n"
     ]
    }
   ],
   "source": [
    "x=[1,2,3]\n",
    "if isinstance(x,list):\n",
    "    print(x,\"is a list\")"
   ]
  },
  {
   "cell_type": "code",
   "execution_count": null,
   "id": "8e0c760e",
   "metadata": {},
   "outputs": [],
   "source": []
  },
  {
   "cell_type": "code",
   "execution_count": null,
   "id": "cc4523a9",
   "metadata": {},
   "outputs": [],
   "source": []
  }
 ],
 "metadata": {
  "kernelspec": {
   "display_name": "Python 3 (ipykernel)",
   "language": "python",
   "name": "python3"
  },
  "language_info": {
   "codemirror_mode": {
    "name": "ipython",
    "version": 3
   },
   "file_extension": ".py",
   "mimetype": "text/x-python",
   "name": "python",
   "nbconvert_exporter": "python",
   "pygments_lexer": "ipython3",
   "version": "3.11.3"
  }
 },
 "nbformat": 4,
 "nbformat_minor": 5
}
