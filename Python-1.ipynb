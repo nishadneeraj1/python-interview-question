{
 "cells": [
  {
   "cell_type": "code",
   "execution_count": null,
   "id": "56b88166",
   "metadata": {},
   "outputs": [],
   "source": [
    "1. Question: Write a function that takes a list of numbers and returns the sum."
   ]
  },
  {
   "cell_type": "code",
   "execution_count": 1,
   "id": "76cfd5d9",
   "metadata": {},
   "outputs": [],
   "source": [
    "def sum_of_list(numbers):\n",
    "    total=0\n",
    "    for i in numbers:\n",
    "        total+=i\n",
    "    return total"
   ]
  },
  {
   "cell_type": "code",
   "execution_count": 2,
   "id": "fedd0ec8",
   "metadata": {},
   "outputs": [
    {
     "data": {
      "text/plain": [
       "6"
      ]
     },
     "execution_count": 2,
     "metadata": {},
     "output_type": "execute_result"
    }
   ],
   "source": [
    "sum_of_list([1,2,3])"
   ]
  },
  {
   "cell_type": "code",
   "execution_count": null,
   "id": "49c856a2",
   "metadata": {},
   "outputs": [],
   "source": [
    "2. Question: How do you reverse a string in Python?"
   ]
  },
  {
   "cell_type": "code",
   "execution_count": 13,
   "id": "0c53903b",
   "metadata": {},
   "outputs": [
    {
     "data": {
      "text/plain": [
       "'jareen'"
      ]
     },
     "execution_count": 13,
     "metadata": {},
     "output_type": "execute_result"
    }
   ],
   "source": [
    "a=\"neeraj\"\n",
    "a[::-1]"
   ]
  },
  {
   "cell_type": "code",
   "execution_count": 14,
   "id": "2a880d33",
   "metadata": {},
   "outputs": [],
   "source": [
    "def reverse(a):\n",
    "    return a[::-1]"
   ]
  },
  {
   "cell_type": "code",
   "execution_count": 15,
   "id": "8b60d092",
   "metadata": {},
   "outputs": [
    {
     "data": {
      "text/plain": [
       "'jareen'"
      ]
     },
     "execution_count": 15,
     "metadata": {},
     "output_type": "execute_result"
    }
   ],
   "source": [
    "a=\"neeraj\"\n",
    "reverse(a)"
   ]
  },
  {
   "cell_type": "code",
   "execution_count": 16,
   "id": "9461b3d5",
   "metadata": {},
   "outputs": [],
   "source": [
    "3. Question: What is the difference between a tuple and a list?"
   ]
  },
  {
   "cell_type": "code",
   "execution_count": null,
   "id": "80d60967",
   "metadata": {},
   "outputs": [],
   "source": [
    "we describe tuple using paranthesis while list is described using square bracket\n",
    "also tuple is immutable means we can not modify tuple but list is mutable means we can modify the tuple"
   ]
  },
  {
   "cell_type": "code",
   "execution_count": null,
   "id": "45583c77",
   "metadata": {},
   "outputs": [],
   "source": [
    "4. Question: Write a function that checks if a given word is a palindrome."
   ]
  },
  {
   "cell_type": "code",
   "execution_count": 18,
   "id": "42e83661",
   "metadata": {},
   "outputs": [],
   "source": [
    "def palindrome(a):\n",
    "    return a==a[::-1]"
   ]
  },
  {
   "cell_type": "code",
   "execution_count": 22,
   "id": "c6ac8ce6",
   "metadata": {},
   "outputs": [
    {
     "data": {
      "text/plain": [
       "True"
      ]
     },
     "execution_count": 22,
     "metadata": {},
     "output_type": "execute_result"
    }
   ],
   "source": [
    "palindrome(\"101\")"
   ]
  },
  {
   "cell_type": "code",
   "execution_count": null,
   "id": "3db684b7",
   "metadata": {},
   "outputs": [],
   "source": [
    "5. Question: How can you remove duplicates from a list?"
   ]
  },
  {
   "cell_type": "code",
   "execution_count": 32,
   "id": "255a81a0",
   "metadata": {},
   "outputs": [
    {
     "data": {
      "text/plain": [
       "[1, 2, 3, 4]"
      ]
     },
     "execution_count": 32,
     "metadata": {},
     "output_type": "execute_result"
    }
   ],
   "source": [
    "lis=[1,2,3,3,4]\n",
    "def remove_duplicate(lis):\n",
    "    return list(set(lis))\n",
    "remove_duplicate(lis)"
   ]
  },
  {
   "cell_type": "code",
   "execution_count": 36,
   "id": "6f1570a6",
   "metadata": {},
   "outputs": [],
   "source": [
    "def remov_dupli(lis):\n",
    "    s1=set()\n",
    "    l=[]\n",
    "    for i in lis:\n",
    "        if i  not in s1:\n",
    "            s1.add(i)\n",
    "            l.append(i)\n",
    "    return l"
   ]
  },
  {
   "cell_type": "code",
   "execution_count": 37,
   "id": "175e2914",
   "metadata": {},
   "outputs": [
    {
     "data": {
      "text/plain": [
       "[1, 2, 3]"
      ]
     },
     "execution_count": 37,
     "metadata": {},
     "output_type": "execute_result"
    }
   ],
   "source": [
    "remov_dupli([1,2,2,3])"
   ]
  },
  {
   "cell_type": "code",
   "execution_count": null,
   "id": "338b6d7b",
   "metadata": {},
   "outputs": [],
   "source": [
    "6. Question: How do you handle exceptions in Python?"
   ]
  },
  {
   "cell_type": "code",
   "execution_count": 38,
   "id": "396a974a",
   "metadata": {},
   "outputs": [
    {
     "name": "stdout",
     "output_type": "stream",
     "text": [
      "Can not divide by zero\n"
     ]
    }
   ],
   "source": [
    "try:\n",
    "    x=1/0\n",
    "except ZeroDivisionError:\n",
    "    print(\"Can not divide by zero\")"
   ]
  },
  {
   "cell_type": "code",
   "execution_count": null,
   "id": "0ef5129e",
   "metadata": {},
   "outputs": [],
   "source": [
    "7. Question: What is a lambda function? Provide an example."
   ]
  },
  {
   "cell_type": "code",
   "execution_count": null,
   "id": "88add8d2",
   "metadata": {},
   "outputs": [],
   "source": [
    "It is a small,anonymous function.It can any number of arguments but can have only one expression."
   ]
  },
  {
   "cell_type": "code",
   "execution_count": 39,
   "id": "5038a94d",
   "metadata": {},
   "outputs": [
    {
     "name": "stdout",
     "output_type": "stream",
     "text": [
      "24\n"
     ]
    }
   ],
   "source": [
    "multiply = lambda x,y:x*y\n",
    "print(multiply(4,6))"
   ]
  },
  {
   "cell_type": "code",
   "execution_count": 45,
   "id": "1688a503",
   "metadata": {},
   "outputs": [
    {
     "data": {
      "text/plain": [
       "[2, 4]"
      ]
     },
     "execution_count": 45,
     "metadata": {},
     "output_type": "execute_result"
    }
   ],
   "source": [
    "lis=[1,2,3,4,5]\n",
    "list(filter(lambda x:x%2==0,lis))"
   ]
  },
  {
   "cell_type": "code",
   "execution_count": 48,
   "id": "68c70da6",
   "metadata": {},
   "outputs": [],
   "source": [
    "fruits=['apple','banana','cherry','date','pomogranate']\n",
    "l=list(map(lambda x:len(x),fruits))"
   ]
  },
  {
   "cell_type": "code",
   "execution_count": 54,
   "id": "d9f3c6c2",
   "metadata": {},
   "outputs": [
    {
     "data": {
      "text/plain": [
       "['date', 'apple', 'banana', 'cherry', 'pomogranate']"
      ]
     },
     "execution_count": 54,
     "metadata": {},
     "output_type": "execute_result"
    }
   ],
   "source": [
    "sorted(fruits,key=lambda x:len(x))"
   ]
  },
  {
   "cell_type": "code",
   "execution_count": 55,
   "id": "f2a5b0d5",
   "metadata": {},
   "outputs": [],
   "source": [
    "#sorting a list of dictionary based on specific key"
   ]
  },
  {
   "cell_type": "code",
   "execution_count": 57,
   "id": "df2c0a8d",
   "metadata": {},
   "outputs": [],
   "source": [
    "people=[\n",
    "    {'name':'Alice','age':23,'occupation':\"intern\"},\n",
    "     {'name':'Neeraj','age':25,'occupation':\"manager\"},\n",
    "     {'name':'Anuj','age':28,'occupation':\"sd\"},\n",
    "     {'name':'Arti','age':26,'occupation':\"intern\"}\n",
    "]"
   ]
  },
  {
   "cell_type": "code",
   "execution_count": 58,
   "id": "a11d9216",
   "metadata": {},
   "outputs": [
    {
     "data": {
      "text/plain": [
       "[{'name': 'Alice', 'age': 23, 'occupation': 'intern'},\n",
       " {'name': 'Neeraj', 'age': 25, 'occupation': 'manager'},\n",
       " {'name': 'Arti', 'age': 26, 'occupation': 'intern'},\n",
       " {'name': 'Anuj', 'age': 28, 'occupation': 'sd'}]"
      ]
     },
     "execution_count": 58,
     "metadata": {},
     "output_type": "execute_result"
    }
   ],
   "source": [
    "sorted(people,key=lambda x:x['age'])"
   ]
  },
  {
   "cell_type": "code",
   "execution_count": 60,
   "id": "85ec5aa2",
   "metadata": {},
   "outputs": [],
   "source": [
    "#maximum value in dictionary"
   ]
  },
  {
   "cell_type": "code",
   "execution_count": 61,
   "id": "04bad4b9",
   "metadata": {},
   "outputs": [],
   "source": [
    "dic={'a':3,'b':9,'c':0,'d':6}"
   ]
  },
  {
   "cell_type": "code",
   "execution_count": 63,
   "id": "911a75ce",
   "metadata": {},
   "outputs": [
    {
     "data": {
      "text/plain": [
       "'b'"
      ]
     },
     "execution_count": 63,
     "metadata": {},
     "output_type": "execute_result"
    }
   ],
   "source": [
    "max(dic,key=lambda x:dic[x])"
   ]
  },
  {
   "cell_type": "code",
   "execution_count": 64,
   "id": "4373b919",
   "metadata": {},
   "outputs": [],
   "source": [
    "#grouping a list of strings based on there first letter"
   ]
  },
  {
   "cell_type": "code",
   "execution_count": 70,
   "id": "21d3f52e",
   "metadata": {},
   "outputs": [],
   "source": [
    "from itertools import groupby\n",
    "words = ['apple','banana','cherry','pineapple']\n",
    "groups=groupby(sorted(words),key=lambda x:x[0])"
   ]
  },
  {
   "cell_type": "code",
   "execution_count": 71,
   "id": "0cc8991d",
   "metadata": {},
   "outputs": [
    {
     "name": "stdout",
     "output_type": "stream",
     "text": [
      "a ['apple']\n",
      "b ['banana']\n",
      "c ['cherry']\n",
      "p ['pineapple']\n"
     ]
    }
   ],
   "source": [
    "for key,group in groups:\n",
    "    print(key,list(group))"
   ]
  },
  {
   "cell_type": "code",
   "execution_count": 72,
   "id": "88d47bb5",
   "metadata": {},
   "outputs": [],
   "source": [
    "#8. Question: Write a function that returns the n-th Fibonacci number using recursion.\n",
    "\n",
    "def fibonacci(n):\n",
    "    if n<=1:\n",
    "        return n\n",
    "    return fibonacci(n-1) + fibonacci(n-2)"
   ]
  },
  {
   "cell_type": "code",
   "execution_count": 73,
   "id": "f3f7d11f",
   "metadata": {},
   "outputs": [
    {
     "data": {
      "text/plain": [
       "3"
      ]
     },
     "execution_count": 73,
     "metadata": {},
     "output_type": "execute_result"
    }
   ],
   "source": [
    "fibonacci(4)"
   ]
  },
  {
   "cell_type": "code",
   "execution_count": 74,
   "id": "4c6ff1cd",
   "metadata": {},
   "outputs": [],
   "source": [
    "#9. Question: What are decorators in Python and how are they used?\n",
    "#Decorators are powerful and flexible way to modify the function and method without changing source code.\n",
    "#It is used to add functionality to functions or methods."
   ]
  },
  {
   "cell_type": "code",
   "execution_count": 77,
   "id": "f3b75096",
   "metadata": {},
   "outputs": [
    {
     "name": "stdout",
     "output_type": "stream",
     "text": [
      "before\n",
      "Hello\n",
      "after\n"
     ]
    }
   ],
   "source": [
    "def my_dec(func):\n",
    "    def wrapper():\n",
    "        print(\"before\")\n",
    "        func()\n",
    "        print(\"after\")\n",
    "    return wrapper\n",
    "\n",
    "@my_dec\n",
    "def say_hello():\n",
    "    print(\"Hello\")\n",
    "say_hello()"
   ]
  },
  {
   "cell_type": "code",
   "execution_count": 78,
   "id": "65eb6761",
   "metadata": {},
   "outputs": [],
   "source": [
    "#10. Question: How do you deep copy an object in Python?"
   ]
  },
  {
   "cell_type": "code",
   "execution_count": 81,
   "id": "5a3aa317",
   "metadata": {},
   "outputs": [
    {
     "name": "stdout",
     "output_type": "stream",
     "text": [
      "[1, 2, 3] [1, 2, 3]\n"
     ]
    }
   ],
   "source": [
    "lst1=[1,2,3]\n",
    "lst2=[]\n",
    "lst2=lst1\n",
    "print(lst1,lst2)"
   ]
  },
  {
   "cell_type": "code",
   "execution_count": 82,
   "id": "02ca3e5d",
   "metadata": {},
   "outputs": [],
   "source": [
    "lst1[1]=10"
   ]
  },
  {
   "cell_type": "code",
   "execution_count": 83,
   "id": "94ade402",
   "metadata": {},
   "outputs": [
    {
     "data": {
      "text/plain": [
       "[1, 10, 3]"
      ]
     },
     "execution_count": 83,
     "metadata": {},
     "output_type": "execute_result"
    }
   ],
   "source": [
    "lst2"
   ]
  },
  {
   "cell_type": "code",
   "execution_count": 84,
   "id": "214675b9",
   "metadata": {},
   "outputs": [
    {
     "data": {
      "text/plain": [
       "[1, 10, 3]"
      ]
     },
     "execution_count": 84,
     "metadata": {},
     "output_type": "execute_result"
    }
   ],
   "source": [
    "lst1"
   ]
  },
  {
   "cell_type": "code",
   "execution_count": 86,
   "id": "8d384bc9",
   "metadata": {},
   "outputs": [],
   "source": [
    "import copy\n",
    "original = [[1, 2, 3], [4, 5, 6]]\n",
    "copied = copy.deepcopy(original)"
   ]
  },
  {
   "cell_type": "code",
   "execution_count": 87,
   "id": "87f20497",
   "metadata": {},
   "outputs": [
    {
     "name": "stdout",
     "output_type": "stream",
     "text": [
      "30\n",
      "25\n"
     ]
    }
   ],
   "source": [
    "class MyClass:\n",
    "    def __init__(self, name, age):\n",
    "        self.name = name\n",
    "        self.age = age\n",
    "\n",
    "my_object = MyClass(\"Alice\", 25)\n",
    "\n",
    "# Shallow copy\n",
    "shallow_copy = my_object\n",
    "\n",
    "# Deep copy\n",
    "deep_copy = copy.deepcopy(my_object)\n",
    "\n",
    "# Modify the shallow copy\n",
    "shallow_copy.age = 30\n",
    "\n",
    "# Print the ages of the original object and the deep copy\n",
    "print(my_object.age)\n",
    "print(deep_copy.age)\n"
   ]
  },
  {
   "cell_type": "code",
   "execution_count": null,
   "id": "4195160c",
   "metadata": {},
   "outputs": [],
   "source": [
    "Characteristic\t                                                                      Shallow copy           Deep copy\n",
    "Copies primitive fields                                                             Yes                         Yes\n",
    "Copies reference to nested objects                                         No                          Yes\n",
    "Changes made to copied object are reflected in original object Yes                      No"
   ]
  },
  {
   "cell_type": "code",
   "execution_count": 88,
   "id": "aa7b6177",
   "metadata": {},
   "outputs": [],
   "source": [
    "#11. Question: What is list comprehension and provide an example?"
   ]
  },
  {
   "cell_type": "code",
   "execution_count": null,
   "id": "8e67022c",
   "metadata": {},
   "outputs": [],
   "source": [
    "List coprehension is a concise way to create list in python."
   ]
  },
  {
   "cell_type": "code",
   "execution_count": 90,
   "id": "07e14636",
   "metadata": {},
   "outputs": [],
   "source": [
    "squared_numbers = [x**2 for x in range(10)]"
   ]
  },
  {
   "cell_type": "code",
   "execution_count": 91,
   "id": "0771cfdd",
   "metadata": {},
   "outputs": [
    {
     "data": {
      "text/plain": [
       "[0, 1, 4, 9, 16, 25, 36, 49, 64, 81]"
      ]
     },
     "execution_count": 91,
     "metadata": {},
     "output_type": "execute_result"
    }
   ],
   "source": [
    "squared_numbers"
   ]
  },
  {
   "cell_type": "code",
   "execution_count": null,
   "id": "61cbdd6e",
   "metadata": {},
   "outputs": [],
   "source": [
    "#12. Question: What is the difference between == and is?\n",
    "# == checks for value equality whether is checks for identity means whether two references point to same object in the memory. "
   ]
  },
  {
   "cell_type": "code",
   "execution_count": null,
   "id": "738fa2f6",
   "metadata": {},
   "outputs": [],
   "source": [
    "#13. Question: xplain the concept of *args and **kwargs in Python.\n",
    "#by using *args we can pass  a number of arguments but using **kwargs we can pass a number variable of key value pair"
   ]
  },
  {
   "cell_type": "code",
   "execution_count": 99,
   "id": "bd5ebab5",
   "metadata": {},
   "outputs": [
    {
     "name": "stdout",
     "output_type": "stream",
     "text": [
      "1\n",
      "2\n",
      "3\n",
      "a = 4\n",
      "b = 5\n"
     ]
    }
   ],
   "source": [
    "def function_example(*args, **kwargs):\n",
    "    for arg in args:\n",
    "        print(arg)\n",
    "    for key, value in kwargs.items():\n",
    "        print(f\"{key} = {value}\")\n",
    "\n",
    "function_example(1, 2, 3, a=4, b=5)"
   ]
  },
  {
   "cell_type": "code",
   "execution_count": null,
   "id": "b0eefeb4",
   "metadata": {},
   "outputs": [],
   "source": [
    "14. Question: What is a generator and how is it different from a list?\n",
    "\n",
    "Answer: A generator is an iterable that yields items one at a time using a yield statement, whereas a list holds all its items in memory. Generators are more memory-efficient for large data sets."
   ]
  },
  {
   "cell_type": "code",
   "execution_count": null,
   "id": "56773461",
   "metadata": {},
   "outputs": [],
   "source": [
    "#difference\n",
    "1. to create iterator we use iter() and to create generator we fucntion along with yield keyword\n",
    "2. generator uses the yield keyword . it saves the local variable.\n",
    "3. generator in python helps us to write fast and compact code\n",
    "4. python iterator is much more memory efficient"
   ]
  },
  {
   "cell_type": "code",
   "execution_count": 102,
   "id": "09e79880",
   "metadata": {},
   "outputs": [],
   "source": [
    "lis=[1,2,3,4]\n",
    "iterator=iter(lis)"
   ]
  },
  {
   "cell_type": "code",
   "execution_count": 107,
   "id": "00fda43a",
   "metadata": {},
   "outputs": [
    {
     "ename": "StopIteration",
     "evalue": "",
     "output_type": "error",
     "traceback": [
      "\u001b[1;31m---------------------------------------------------------------------------\u001b[0m",
      "\u001b[1;31mStopIteration\u001b[0m                             Traceback (most recent call last)",
      "Cell \u001b[1;32mIn[107], line 1\u001b[0m\n\u001b[1;32m----> 1\u001b[0m \u001b[38;5;28;43mnext\u001b[39;49m\u001b[43m(\u001b[49m\u001b[43miterator\u001b[49m\u001b[43m)\u001b[49m\n",
      "\u001b[1;31mStopIteration\u001b[0m: "
     ]
    }
   ],
   "source": [
    "next(iterator)"
   ]
  },
  {
   "cell_type": "code",
   "execution_count": 108,
   "id": "4de10f5a",
   "metadata": {},
   "outputs": [
    {
     "name": "stdout",
     "output_type": "stream",
     "text": [
      "There is no element left\n"
     ]
    }
   ],
   "source": [
    "try:\n",
    "    print(next(iterator))\n",
    "except StopIteration:\n",
    "    print(\"There is no element left\")"
   ]
  },
  {
   "cell_type": "code",
   "execution_count": 121,
   "id": "d89f7b17",
   "metadata": {},
   "outputs": [],
   "source": [
    "def square(n):\n",
    "    for i in range(n):\n",
    "        yield(i**2)"
   ]
  },
  {
   "cell_type": "code",
   "execution_count": 122,
   "id": "c46c5802",
   "metadata": {},
   "outputs": [],
   "source": [
    "a=square(4)"
   ]
  },
  {
   "cell_type": "code",
   "execution_count": 127,
   "id": "138afd84",
   "metadata": {},
   "outputs": [
    {
     "ename": "StopIteration",
     "evalue": "",
     "output_type": "error",
     "traceback": [
      "\u001b[1;31m---------------------------------------------------------------------------\u001b[0m",
      "\u001b[1;31mStopIteration\u001b[0m                             Traceback (most recent call last)",
      "Cell \u001b[1;32mIn[127], line 1\u001b[0m\n\u001b[1;32m----> 1\u001b[0m \u001b[38;5;28;43mnext\u001b[39;49m\u001b[43m(\u001b[49m\u001b[43ma\u001b[49m\u001b[43m)\u001b[49m\n",
      "\u001b[1;31mStopIteration\u001b[0m: "
     ]
    }
   ],
   "source": [
    "next(a)"
   ]
  },
  {
   "cell_type": "code",
   "execution_count": null,
   "id": "9e23f1f9",
   "metadata": {},
   "outputs": [],
   "source": [
    "15. Question: How can you achieve multi-threading in Python?\n",
    "\n",
    "Answer: Python has a threading module which can be used to achieve multi-threading."
   ]
  },
  {
   "cell_type": "code",
   "execution_count": 138,
   "id": "37868d68",
   "metadata": {},
   "outputs": [
    {
     "name": "stdout",
     "output_type": "stream",
     "text": [
      "Calculating square of numbers:\n",
      "Square of 1: 1\n",
      "Square of 2: 4\n",
      "Square of 3: 9\n",
      "Square of 4: 16\n",
      "Square of 5: 25\n",
      "Calculating cube of numbers:\n",
      "Cube of 1: 1\n",
      "Cube of 2: 8\n",
      "Cube of 3: 27\n",
      "Cube of 4: 64\n",
      "Cube of 5: 125\n",
      "Both threads have finished.\n"
     ]
    }
   ],
   "source": [
    "import threading\n",
    "\n",
    "# Function to perform some calculations\n",
    "def calculate_square(numbers):\n",
    "    print(\"Calculating square of numbers:\")\n",
    "    for number in numbers:\n",
    "        print(f\"Square of {number}: {number * number}\")\n",
    "\n",
    "def calculate_cube(numbers):\n",
    "    print(\"Calculating cube of numbers:\")\n",
    "    for number in numbers:\n",
    "        print(f\"Cube of {number}: {number * number * number}\")\n",
    "\n",
    "# Create a list of numbers\n",
    "numbers = [1, 2, 3, 4, 5]\n",
    "\n",
    "# Create two threads, one for calculating squares and the other for cubes\n",
    "thread1 = threading.Thread(target=calculate_square, args=(numbers,))\n",
    "thread2 = threading.Thread(target=calculate_cube, args=(numbers,))\n",
    "\n",
    "# Start the threads\n",
    "thread1.start()\n",
    "thread2.start()\n",
    "\n",
    "# Wait for both threads to finish\n",
    "thread1.join()\n",
    "thread2.join()\n",
    "\n",
    "print(\"Both threads have finished.\")\n"
   ]
  },
  {
   "cell_type": "code",
   "execution_count": null,
   "id": "79e5f54f",
   "metadata": {},
   "outputs": [],
   "source": [
    "6. Question: What are metaclasses in Python?\n",
    "\n",
    "Answer: Metaclasses are a deep and advanced topic in Python. Essentially, they are \"classes of a class\" that define how a class behaves. The default metaclass is type, but you can create your own metaclass to customize class behavior."
   ]
  },
  {
   "cell_type": "code",
   "execution_count": null,
   "id": "215f371b",
   "metadata": {},
   "outputs": [],
   "source": [
    "17. Question: Describe the Global Interpreter Lock (GIL) and its implications.\n",
    "\n",
    "Answer: The GIL is a mutex (or a lock) that allows only one thread to execute Python bytecode at a time in CPython (the standard Python implementation). This means that even on multi-core systems, only one thread is executed at a time. This can be a bottleneck for CPU-bound programs, but it is not generally an issue for I/O-bound programs"
   ]
  }
 ],
 "metadata": {
  "kernelspec": {
   "display_name": "Python 3 (ipykernel)",
   "language": "python",
   "name": "python3"
  },
  "language_info": {
   "codemirror_mode": {
    "name": "ipython",
    "version": 3
   },
   "file_extension": ".py",
   "mimetype": "text/x-python",
   "name": "python",
   "nbconvert_exporter": "python",
   "pygments_lexer": "ipython3",
   "version": "3.11.3"
  }
 },
 "nbformat": 4,
 "nbformat_minor": 5
}
