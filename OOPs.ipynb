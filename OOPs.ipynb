{
 "cells": [
  {
   "cell_type": "code",
   "execution_count": 1,
   "id": "6c8db3b9",
   "metadata": {},
   "outputs": [],
   "source": [
    "#Q2 method overloading and method overriding"
   ]
  },
  {
   "cell_type": "code",
   "execution_count": 2,
   "id": "2941e81d",
   "metadata": {},
   "outputs": [
    {
     "name": "stdout",
     "output_type": "stream",
     "text": [
      "Hello from the child class!\n"
     ]
    }
   ],
   "source": [
    "class Parent:\n",
    "    def greet(self):\n",
    "        print(\"Hello from the parent class!\")\n",
    "\n",
    "class Child(Parent):\n",
    "    def greet(self):\n",
    "        print(\"Hello from the child class!\")\n",
    "\n",
    "child = Child()\n",
    "child.greet()\n"
   ]
  },
  {
   "cell_type": "code",
   "execution_count": 7,
   "id": "6e65b0fe",
   "metadata": {},
   "outputs": [
    {
     "name": "stdout",
     "output_type": "stream",
     "text": [
      "1\n",
      "3\n"
     ]
    }
   ],
   "source": [
    "def add(a, b=0):\n",
    "    \"\"\"Returns the sum of a and b.\n",
    "\n",
    "    Args:\n",
    "        a: The first number.\n",
    "        b: The second number. (default: 0)\n",
    "\n",
    "    Returns:\n",
    "        The sum of a and b.\n",
    "    \"\"\"\n",
    "\n",
    "    return a + b\n",
    "\n",
    "# Call the add() function with one argument.\n",
    "print(add(1))\n",
    "\n",
    "# Call the add() function with two arguments.\n",
    "print(add(1, 2))\n"
   ]
  },
  {
   "cell_type": "code",
   "execution_count": 9,
   "id": "6bc8c235",
   "metadata": {},
   "outputs": [],
   "source": [
    "#Q2dictionary comprehension\n",
    "#It is concise way to create dictionary"
   ]
  },
  {
   "cell_type": "code",
   "execution_count": 11,
   "id": "9e8da822",
   "metadata": {},
   "outputs": [
    {
     "data": {
      "text/plain": [
       "{0: 0, 1: 1, 2: 4, 3: 9, 4: 16}"
      ]
     },
     "execution_count": 11,
     "metadata": {},
     "output_type": "execute_result"
    }
   ],
   "source": [
    "{x:x**2 for x in range(5)}"
   ]
  },
  {
   "cell_type": "code",
   "execution_count": 13,
   "id": "38638eaa",
   "metadata": {},
   "outputs": [
    {
     "ename": "SyntaxError",
     "evalue": "invalid syntax (272703384.py, line 1)",
     "output_type": "error",
     "traceback": [
      "\u001b[1;36m  Cell \u001b[1;32mIn[13], line 1\u001b[1;36m\u001b[0m\n\u001b[1;33m    .join(['hello','world'])\u001b[0m\n\u001b[1;37m    ^\u001b[0m\n\u001b[1;31mSyntaxError\u001b[0m\u001b[1;31m:\u001b[0m invalid syntax\n"
     ]
    }
   ],
   "source": [
    ".join(['hello','world'])"
   ]
  },
  {
   "cell_type": "code",
   "execution_count": 14,
   "id": "7fa5c647",
   "metadata": {},
   "outputs": [],
   "source": [
    "lst=['n','e','e','r','a','j']\n",
    "sep=''\n",
    "join_string=sep.join(lst)"
   ]
  },
  {
   "cell_type": "code",
   "execution_count": 15,
   "id": "5349f762",
   "metadata": {},
   "outputs": [
    {
     "data": {
      "text/plain": [
       "'neeraj'"
      ]
     },
     "execution_count": 15,
     "metadata": {},
     "output_type": "execute_result"
    }
   ],
   "source": [
    "join_string"
   ]
  },
  {
   "cell_type": "code",
   "execution_count": 17,
   "id": "f006c5bd",
   "metadata": {},
   "outputs": [
    {
     "data": {
      "text/plain": [
       "'neeraj'"
      ]
     },
     "execution_count": 17,
     "metadata": {},
     "output_type": "execute_result"
    }
   ],
   "source": [
    "a=\"  neeraj\"\n",
    "a.strip()"
   ]
  },
  {
   "cell_type": "code",
   "execution_count": 23,
   "id": "4408e323",
   "metadata": {},
   "outputs": [],
   "source": [
    "b=[1,2,3]"
   ]
  },
  {
   "cell_type": "code",
   "execution_count": 24,
   "id": "59d0f0bb",
   "metadata": {},
   "outputs": [
    {
     "data": {
      "text/plain": [
       "2"
      ]
     },
     "execution_count": 24,
     "metadata": {},
     "output_type": "execute_result"
    }
   ],
   "source": [
    "b[1]"
   ]
  },
  {
   "cell_type": "code",
   "execution_count": 25,
   "id": "17ba41e0",
   "metadata": {},
   "outputs": [],
   "source": [
    "b.insert(2,'n')"
   ]
  },
  {
   "cell_type": "code",
   "execution_count": 26,
   "id": "8f84f2f1",
   "metadata": {},
   "outputs": [
    {
     "data": {
      "text/plain": [
       "[1, 2, 'n', 3]"
      ]
     },
     "execution_count": 26,
     "metadata": {},
     "output_type": "execute_result"
    }
   ],
   "source": [
    "b"
   ]
  },
  {
   "cell_type": "code",
   "execution_count": 29,
   "id": "475b569c",
   "metadata": {},
   "outputs": [
    {
     "name": "stdout",
     "output_type": "stream",
     "text": [
      "['apple']\n"
     ]
    }
   ],
   "source": [
    "fruit=['apple','cherry','banana','pineapple']\n",
    "lst=[]\n",
    "for i in fruit:\n",
    "    if 'a' in i[0]:\n",
    "        lst.append(i)\n",
    "print(lst)"
   ]
  },
  {
   "cell_type": "code",
   "execution_count": 30,
   "id": "5b1e3983",
   "metadata": {},
   "outputs": [],
   "source": [
    "fruit.sort()"
   ]
  },
  {
   "cell_type": "code",
   "execution_count": 31,
   "id": "04d25be0",
   "metadata": {},
   "outputs": [
    {
     "data": {
      "text/plain": [
       "['apple', 'banana', 'cherry', 'pineapple']"
      ]
     },
     "execution_count": 31,
     "metadata": {},
     "output_type": "execute_result"
    }
   ],
   "source": [
    "fruit"
   ]
  },
  {
   "cell_type": "code",
   "execution_count": 32,
   "id": "99168b73",
   "metadata": {},
   "outputs": [
    {
     "data": {
      "text/plain": [
       "2"
      ]
     },
     "execution_count": 32,
     "metadata": {},
     "output_type": "execute_result"
    }
   ],
   "source": [
    "tup=(1,2,3,4,1)\n",
    "tup.count(1)"
   ]
  },
  {
   "cell_type": "code",
   "execution_count": 33,
   "id": "aa1c56ce",
   "metadata": {},
   "outputs": [
    {
     "data": {
      "text/plain": [
       "1"
      ]
     },
     "execution_count": 33,
     "metadata": {},
     "output_type": "execute_result"
    }
   ],
   "source": [
    "tup.index(2)"
   ]
  },
  {
   "cell_type": "code",
   "execution_count": 34,
   "id": "e7357c15",
   "metadata": {},
   "outputs": [
    {
     "name": "stdout",
     "output_type": "stream",
     "text": [
      "John(36)\n"
     ]
    }
   ],
   "source": [
    "class Person:\n",
    "  def __init__(self, name, age):\n",
    "    self.name = name\n",
    "    self.age = age\n",
    "\n",
    "  def __str__(self):\n",
    "    return f\"{self.name}({self.age})\"    \n",
    "\n",
    "p1 = Person(\"John\", 36)\n",
    "\n",
    "print(p1)\n"
   ]
  },
  {
   "cell_type": "code",
   "execution_count": 35,
   "id": "caae0b73",
   "metadata": {},
   "outputs": [
    {
     "name": "stdout",
     "output_type": "stream",
     "text": [
      "Woof!\n",
      "Meow!\n",
      "Tweet!\n"
     ]
    }
   ],
   "source": [
    "class Animal:\n",
    "    def __init__(self, name, age):\n",
    "        self.name = name\n",
    "        self.age = age\n",
    "\n",
    "    def make_sound(self):\n",
    "        pass\n",
    "\n",
    "class Dog(Animal):\n",
    "    def make_sound(self):\n",
    "        print(\"Woof!\")\n",
    "\n",
    "class Cat(Animal):\n",
    "    def make_sound(self):\n",
    "        print(\"Meow!\")\n",
    "\n",
    "class Bird(Animal):\n",
    "    def make_sound(self):\n",
    "        print(\"Tweet!\")\n",
    "\n",
    "def make_animal_sound(animal):\n",
    "    animal.make_sound()\n",
    "\n",
    "# Create some animals\n",
    "dog = Dog(\"Fido\", 3)\n",
    "cat = Cat(\"Whiskers\", 2)\n",
    "bird = Bird(\"Tweety\", 1)\n",
    "\n",
    "# Make the animals make sounds\n",
    "make_animal_sound(dog)\n",
    "make_animal_sound(cat)\n",
    "make_animal_sound(bird)\n"
   ]
  },
  {
   "cell_type": "code",
   "execution_count": 36,
   "id": "fa76ba4d",
   "metadata": {},
   "outputs": [
    {
     "name": "stdout",
     "output_type": "stream",
     "text": [
      "2023-10-11 01:03:20.163023\n"
     ]
    }
   ],
   "source": [
    "import datetime\n",
    "\n",
    "x = datetime.datetime.now()\n",
    "\n",
    "print(x)\n"
   ]
  },
  {
   "cell_type": "code",
   "execution_count": 37,
   "id": "4a064e02",
   "metadata": {},
   "outputs": [
    {
     "name": "stdout",
     "output_type": "stream",
     "text": [
      "30\n"
     ]
    }
   ],
   "source": [
    "import json\n",
    "\n",
    "# some JSON:\n",
    "x =  '{ \"name\":\"John\", \"age\":30, \"city\":\"New York\"}'\n",
    "\n",
    "# parse x:\n",
    "y = json.loads(x)\n",
    "\n",
    "# the result is a Python dictionary:\n",
    "print(y[\"age\"])"
   ]
  },
  {
   "cell_type": "code",
   "execution_count": 38,
   "id": "b6f95e01",
   "metadata": {},
   "outputs": [
    {
     "data": {
      "text/plain": [
       "{'name': 'John', 'age': 30, 'city': 'New York'}"
      ]
     },
     "execution_count": 38,
     "metadata": {},
     "output_type": "execute_result"
    }
   ],
   "source": [
    "y"
   ]
  },
  {
   "cell_type": "code",
   "execution_count": 39,
   "id": "cd296851",
   "metadata": {},
   "outputs": [
    {
     "data": {
      "text/plain": [
       "'{\"name\": \"John\", \"age\": 30, \"city\": \"New York\"}'"
      ]
     },
     "execution_count": 39,
     "metadata": {},
     "output_type": "execute_result"
    }
   ],
   "source": [
    "z=json.dumps(y)\n",
    "z"
   ]
  },
  {
   "cell_type": "code",
   "execution_count": 40,
   "id": "bc3f19fc",
   "metadata": {},
   "outputs": [
    {
     "data": {
      "text/plain": [
       "56"
      ]
     },
     "execution_count": 40,
     "metadata": {},
     "output_type": "execute_result"
    }
   ],
   "source": [
    "#Q1\n",
    "a=2\n",
    "b=56\n",
    "max(a,b)"
   ]
  },
  {
   "cell_type": "code",
   "execution_count": 41,
   "id": "0a498a0a",
   "metadata": {},
   "outputs": [],
   "source": [
    "#Q2 factorial\n",
    "def factorial(n):\n",
    "    if n==1 or n==0:\n",
    "        return 1\n",
    "    else:\n",
    "        return n*factorial(n-1)"
   ]
  },
  {
   "cell_type": "code",
   "execution_count": 42,
   "id": "bc8481ae",
   "metadata": {},
   "outputs": [
    {
     "data": {
      "text/plain": [
       "120"
      ]
     },
     "execution_count": 42,
     "metadata": {},
     "output_type": "execute_result"
    }
   ],
   "source": [
    "factorial(5)"
   ]
  },
  {
   "cell_type": "code",
   "execution_count": 43,
   "id": "9e9a46e3",
   "metadata": {},
   "outputs": [],
   "source": [
    "#Q3 simple interest\n",
    "def simple_interest(p,r,t):\n",
    "    return (p*r*t)/100"
   ]
  },
  {
   "cell_type": "code",
   "execution_count": 44,
   "id": "03b5a7b1",
   "metadata": {},
   "outputs": [
    {
     "data": {
      "text/plain": [
       "10.0"
      ]
     },
     "execution_count": 44,
     "metadata": {},
     "output_type": "execute_result"
    }
   ],
   "source": [
    "simple_interest(100,5,2)"
   ]
  },
  {
   "cell_type": "code",
   "execution_count": 1,
   "id": "c0ea069a",
   "metadata": {},
   "outputs": [],
   "source": [
    "#Q4\n",
    "def is_armstrong(n):\n",
    "    sum=0\n",
    "    order=len(str(n))\n",
    "    temp=n\n",
    "    while temp>0:\n",
    "        digit=temp%10\n",
    "        sum+=digit**order\n",
    "        temp//=10\n",
    "    return n==sum"
   ]
  },
  {
   "cell_type": "code",
   "execution_count": 5,
   "id": "03c6716d",
   "metadata": {},
   "outputs": [
    {
     "name": "stdout",
     "output_type": "stream",
     "text": [
      "not a armstrong\n",
      "enter the number153\n"
     ]
    }
   ],
   "source": [
    "n=143\n",
    "if is_armstrong(n):\n",
    "    print(\"armstrong\")\n",
    "else:\n",
    "    print(\"not a armstrong\")\n",
    "number=int(input(\"enter the number\"))"
   ]
  },
  {
   "cell_type": "code",
   "execution_count": 11,
   "id": "4d640b2c",
   "metadata": {},
   "outputs": [],
   "source": [
    "#Q5 prime numbers in given interval\n",
    "def prime_number(a,b):\n",
    "    primes=[]\n",
    "    for i in range(a,b+1):\n",
    "        for j in range(2,int(i/2)+1):\n",
    "            if i%j==0:\n",
    "                break\n",
    "        else:\n",
    "            primes.append(i)\n",
    "    return primes"
   ]
  },
  {
   "cell_type": "code",
   "execution_count": 13,
   "id": "f1ea2e7c",
   "metadata": {},
   "outputs": [
    {
     "data": {
      "text/plain": [
       "[2, 3, 5, 7]"
      ]
     },
     "execution_count": 13,
     "metadata": {},
     "output_type": "execute_result"
    }
   ],
   "source": [
    "prime_number(2,10)"
   ]
  },
  {
   "cell_type": "code",
   "execution_count": 18,
   "id": "6640fa02",
   "metadata": {},
   "outputs": [],
   "source": [
    "#Q5 prime or not\n",
    "\n",
    "def prime(n):\n",
    "    if n>1:\n",
    "        for i in range(2,int(n/2)+1):\n",
    "            if n%i==0:\n",
    "                print(n,\" is not a prime number\")\n",
    "                break\n",
    "        else:\n",
    "            print(n,\" is aprime number\")\n",
    "    else:\n",
    "        print(n,\" is not aprime\")"
   ]
  },
  {
   "cell_type": "code",
   "execution_count": 19,
   "id": "37de8cf8",
   "metadata": {},
   "outputs": [
    {
     "name": "stdout",
     "output_type": "stream",
     "text": [
      "5  is aprime number\n"
     ]
    }
   ],
   "source": [
    "prime(5)"
   ]
  },
  {
   "cell_type": "code",
   "execution_count": 20,
   "id": "796e2169",
   "metadata": {},
   "outputs": [],
   "source": [
    "#Q6 nth fibonacci number\n",
    "\n",
    "def fibonacci(n):\n",
    "    if n<=0:\n",
    "        print(\"incorrect input\")\n",
    "    elif n==1:\n",
    "        return 0\n",
    "    elif n==2:\n",
    "        return 1\n",
    "    else:\n",
    "        return fibonacci(n-1)+fibonacci(n-2)"
   ]
  },
  {
   "cell_type": "code",
   "execution_count": 21,
   "id": "0091d0a6",
   "metadata": {},
   "outputs": [
    {
     "data": {
      "text/plain": [
       "8"
      ]
     },
     "execution_count": 21,
     "metadata": {},
     "output_type": "execute_result"
    }
   ],
   "source": [
    "fibonacci(7)"
   ]
  },
  {
   "cell_type": "code",
   "execution_count": 22,
   "id": "285c57f1",
   "metadata": {},
   "outputs": [],
   "source": [
    "#Q7 fibonacci series\n",
    "\n",
    "def fib(n):\n",
    "    fibo_series=[]\n",
    "    a,b=0,1\n",
    "    for i in range(n):\n",
    "        fibo_series.append(a)\n",
    "        a,b=b,a+b\n",
    "    return fibo_series"
   ]
  },
  {
   "cell_type": "code",
   "execution_count": 23,
   "id": "b789c119",
   "metadata": {},
   "outputs": [
    {
     "data": {
      "text/plain": [
       "[0, 1, 1, 2, 3, 5, 8, 13, 21, 34]"
      ]
     },
     "execution_count": 23,
     "metadata": {},
     "output_type": "execute_result"
    }
   ],
   "source": [
    "fib(10)"
   ]
  },
  {
   "cell_type": "code",
   "execution_count": 30,
   "id": "2914c754",
   "metadata": {},
   "outputs": [],
   "source": [
    "#Q8\n",
    "def natural_num(n):\n",
    "    sum=0\n",
    "    for i in range(n+1):\n",
    "        sum+=i**2\n",
    "    return sum"
   ]
  },
  {
   "cell_type": "code",
   "execution_count": 31,
   "id": "df9b52d9",
   "metadata": {},
   "outputs": [
    {
     "data": {
      "text/plain": [
       "14"
      ]
     },
     "execution_count": 31,
     "metadata": {},
     "output_type": "execute_result"
    }
   ],
   "source": [
    "natural_num(3)"
   ]
  },
  {
   "cell_type": "code",
   "execution_count": 35,
   "id": "d1f29c82",
   "metadata": {},
   "outputs": [
    {
     "name": "stdout",
     "output_type": "stream",
     "text": [
      "6\n"
     ]
    }
   ],
   "source": [
    "#Q9\n",
    "sum=0\n",
    "a=[1,2,3]\n",
    "for i in a:\n",
    "    sum+=i\n",
    "print(sum)"
   ]
  },
  {
   "cell_type": "code",
   "execution_count": 4,
   "id": "8a18fca2",
   "metadata": {},
   "outputs": [
    {
     "data": {
      "text/plain": [
       "6"
      ]
     },
     "execution_count": 4,
     "metadata": {},
     "output_type": "execute_result"
    }
   ],
   "source": [
    "class Calculator:\n",
    "  def add(self, a, b=None):\n",
    "    if b is None:\n",
    "      return a\n",
    "    else:\n",
    "      return a + b\n",
    "c=Calculator()\n",
    "c.add(1,5)"
   ]
  },
  {
   "cell_type": "code",
   "execution_count": 5,
   "id": "0f9701de",
   "metadata": {},
   "outputs": [
    {
     "data": {
      "text/plain": [
       "3"
      ]
     },
     "execution_count": 5,
     "metadata": {},
     "output_type": "execute_result"
    }
   ],
   "source": [
    "f=lambda x,y:x+y\n",
    "f(1,2)"
   ]
  },
  {
   "cell_type": "code",
   "execution_count": null,
   "id": "cbc5daca",
   "metadata": {},
   "outputs": [],
   "source": []
  }
 ],
 "metadata": {
  "kernelspec": {
   "display_name": "Python 3 (ipykernel)",
   "language": "python",
   "name": "python3"
  },
  "language_info": {
   "codemirror_mode": {
    "name": "ipython",
    "version": 3
   },
   "file_extension": ".py",
   "mimetype": "text/x-python",
   "name": "python",
   "nbconvert_exporter": "python",
   "pygments_lexer": "ipython3",
   "version": "3.11.3"
  }
 },
 "nbformat": 4,
 "nbformat_minor": 5
}
