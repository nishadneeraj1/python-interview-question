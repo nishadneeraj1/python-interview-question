{
 "cells": [
  {
   "cell_type": "markdown",
   "id": "33922268",
   "metadata": {},
   "source": [
    "# 1.compund interest"
   ]
  },
  {
   "cell_type": "code",
   "execution_count": 5,
   "id": "ec6f05a7",
   "metadata": {},
   "outputs": [],
   "source": [
    "def compound(p,r,t):\n",
    "    a=p*(pow((1+r/100),t))\n",
    "    ci=a-p\n",
    "    print(\"compound interest:\",ci)"
   ]
  },
  {
   "cell_type": "code",
   "execution_count": 6,
   "id": "1c5b0f3d",
   "metadata": {},
   "outputs": [
    {
     "name": "stdout",
     "output_type": "stream",
     "text": [
      "compound interest: 61.051000000000045\n"
     ]
    }
   ],
   "source": [
    "compound(100,10,5)"
   ]
  },
  {
   "cell_type": "markdown",
   "id": "ea6574b5",
   "metadata": {},
   "source": [
    "# 2.armstrong number"
   ]
  },
  {
   "cell_type": "code",
   "execution_count": 21,
   "id": "96781285",
   "metadata": {},
   "outputs": [],
   "source": [
    "def armstrong(n):\n",
    "    temp=n\n",
    "    sum=0\n",
    "    while n>0:\n",
    "        rem=n%10\n",
    "        sum=sum + rem**3\n",
    "        n=n//10\n",
    "    if temp==sum:\n",
    "        print(\"it is a armstrong number\")\n",
    "    else:\n",
    "        print(\"it is not a armstrong number\")\n"
   ]
  },
  {
   "cell_type": "code",
   "execution_count": 22,
   "id": "da70bdb4",
   "metadata": {},
   "outputs": [
    {
     "name": "stdout",
     "output_type": "stream",
     "text": [
      "enter the number153\n",
      "it is a armstrong number\n"
     ]
    }
   ],
   "source": [
    "n=int(input(\"enter the number\"))\n",
    "armstrong(n)"
   ]
  },
  {
   "cell_type": "markdown",
   "id": "68a54530",
   "metadata": {},
   "source": [
    "# 3.facorial "
   ]
  },
  {
   "cell_type": "code",
   "execution_count": 27,
   "id": "4089a43a",
   "metadata": {},
   "outputs": [],
   "source": [
    "def fact(n):\n",
    "    if n==1 or n==0:\n",
    "        return 1\n",
    "    else:\n",
    "        return n*fact(n-1)"
   ]
  },
  {
   "cell_type": "code",
   "execution_count": 28,
   "id": "25f2ad3c",
   "metadata": {},
   "outputs": [
    {
     "name": "stdout",
     "output_type": "stream",
     "text": [
      "enter the number6\n"
     ]
    },
    {
     "data": {
      "text/plain": [
       "720"
      ]
     },
     "execution_count": 28,
     "metadata": {},
     "output_type": "execute_result"
    }
   ],
   "source": [
    "n=int(input(\"enter the number\"))\n",
    "fact(n)"
   ]
  },
  {
   "cell_type": "markdown",
   "id": "924fd209",
   "metadata": {},
   "source": [
    "# 4.palindrome"
   ]
  },
  {
   "cell_type": "code",
   "execution_count": 31,
   "id": "b53510d0",
   "metadata": {},
   "outputs": [],
   "source": [
    "def palindrome(i):\n",
    "    reverse=str(i)\n",
    "    return i==reverse[::-1]"
   ]
  },
  {
   "cell_type": "code",
   "execution_count": 33,
   "id": "3aeb8d16",
   "metadata": {},
   "outputs": [
    {
     "name": "stdout",
     "output_type": "stream",
     "text": [
      "enter the input121\n"
     ]
    },
    {
     "data": {
      "text/plain": [
       "True"
      ]
     },
     "execution_count": 33,
     "metadata": {},
     "output_type": "execute_result"
    }
   ],
   "source": [
    "i=input(\"enter the input\")\n",
    "palindrome(i)"
   ]
  },
  {
   "cell_type": "code",
   "execution_count": 39,
   "id": "0c01d4c1",
   "metadata": {},
   "outputs": [
    {
     "name": "stdout",
     "output_type": "stream",
     "text": [
      "enter the number2233\n"
     ]
    },
    {
     "data": {
      "text/plain": [
       "'it is not a palindrome'"
      ]
     },
     "execution_count": 39,
     "metadata": {},
     "output_type": "execute_result"
    }
   ],
   "source": [
    "def palindrome(i):\n",
    "    temp=i\n",
    "    sum=0\n",
    "    while i>0:\n",
    "        rem=i%10\n",
    "        sum=sum*10+rem\n",
    "        i=i//10\n",
    "    if temp==sum:\n",
    "        return \"it is a palindrome\"\n",
    "    else:\n",
    "        return \"it is not a palindrome\"\n",
    "i=int(input(\"enter the number\"))\n",
    "palindrome(i)"
   ]
  },
  {
   "cell_type": "markdown",
   "id": "5d753817",
   "metadata": {},
   "source": [
    "# 5.prime numbers"
   ]
  },
  {
   "cell_type": "code",
   "execution_count": 6,
   "id": "0b6383b9",
   "metadata": {},
   "outputs": [
    {
     "name": "stdout",
     "output_type": "stream",
     "text": [
      "enter the number13\n",
      "it is a prime number.\n"
     ]
    }
   ],
   "source": [
    "def prime(n):\n",
    "    if n>1:\n",
    "        for i in range(2,int(n/2)+1):\n",
    "            if n%i==0:\n",
    "                print(\"it is not a prime number.\")\n",
    "                break\n",
    "        else:\n",
    "            print(\"it is a prime number.\")\n",
    "    else:\n",
    "        print(\"it is not a prime number\")\n",
    "n=int(input(\"enter the number\"))\n",
    "prime(n)\n",
    "    "
   ]
  },
  {
   "cell_type": "markdown",
   "id": "d77866c6",
   "metadata": {},
   "source": [
    "# 6.fibonacci series"
   ]
  },
  {
   "cell_type": "code",
   "execution_count": 55,
   "id": "7f826d4d",
   "metadata": {},
   "outputs": [
    {
     "name": "stdout",
     "output_type": "stream",
     "text": [
      "enter the number-1\n",
      "incorrect input\n"
     ]
    }
   ],
   "source": [
    "def fib(n):\n",
    "    if n<=0:\n",
    "        print(\"incorrect input\")\n",
    "    elif n==1:\n",
    "        return 0\n",
    "    elif n==2:\n",
    "        return 1\n",
    "    else:\n",
    "        return fib(n-1)+fib(n-2)\n",
    "n=int(input(\"enter the number\"))\n",
    "fib(n)"
   ]
  },
  {
   "cell_type": "code",
   "execution_count": 21,
   "id": "efcc9eb6",
   "metadata": {},
   "outputs": [
    {
     "name": "stdout",
     "output_type": "stream",
     "text": [
      "enter the number :10\n",
      "0 1 1 2 3 5 8 13 21 34 "
     ]
    },
    {
     "data": {
      "text/plain": [
       "34"
      ]
     },
     "execution_count": 21,
     "metadata": {},
     "output_type": "execute_result"
    }
   ],
   "source": [
    "def fib(n):\n",
    "    if n<=0:\n",
    "        print(\"incorrect input\")\n",
    "    elif n==1:\n",
    "        return 0\n",
    "    elif n==2:\n",
    "        return 1\n",
    "    else:\n",
    "        return fib(n-1)+fib(n-2)\n",
    "n=int(input(\"enter the number :\"))\n",
    "for i in range(1,n+1):\n",
    "    print(fib(i),end=\" \")\n",
    "\n",
    "fib(n)"
   ]
  },
  {
   "cell_type": "code",
   "execution_count": 26,
   "id": "a7b1381b",
   "metadata": {},
   "outputs": [
    {
     "data": {
      "text/plain": [
       "65"
      ]
     },
     "execution_count": 26,
     "metadata": {},
     "output_type": "execute_result"
    }
   ],
   "source": [
    "ord(\"A\")"
   ]
  },
  {
   "cell_type": "markdown",
   "id": "5298be7f",
   "metadata": {},
   "source": [
    "# 7.sum of n natural numbers"
   ]
  },
  {
   "cell_type": "code",
   "execution_count": 36,
   "id": "6224ac7b",
   "metadata": {},
   "outputs": [
    {
     "name": "stdout",
     "output_type": "stream",
     "text": [
      "enter the number:4\n"
     ]
    },
    {
     "data": {
      "text/plain": [
       "30"
      ]
     },
     "execution_count": 36,
     "metadata": {},
     "output_type": "execute_result"
    }
   ],
   "source": [
    "def natural_num(n):\n",
    "    s=0\n",
    "    for i in range(1,n+1):\n",
    "        s=s+(i*i)\n",
    "    return s\n",
    "n=int(input(\"enter the number:\"))\n",
    "natural_num(n)"
   ]
  },
  {
   "cell_type": "markdown",
   "id": "d3212db4",
   "metadata": {},
   "source": [
    "# 8.sum of array"
   ]
  },
  {
   "cell_type": "code",
   "execution_count": 37,
   "id": "bd9b1773",
   "metadata": {},
   "outputs": [
    {
     "data": {
      "text/plain": [
       "10"
      ]
     },
     "execution_count": 37,
     "metadata": {},
     "output_type": "execute_result"
    }
   ],
   "source": [
    "arr=[1,2,3,4]\n",
    "sum(arr)"
   ]
  },
  {
   "cell_type": "code",
   "execution_count": 40,
   "id": "199b33ab",
   "metadata": {},
   "outputs": [
    {
     "data": {
      "text/plain": [
       "10"
      ]
     },
     "execution_count": 40,
     "metadata": {},
     "output_type": "execute_result"
    }
   ],
   "source": [
    "def sum_of_array(arr):\n",
    "    s=0\n",
    "    for i in arr:\n",
    "        s=s+i\n",
    "    return s\n",
    "arr=[1,2,3,4]\n",
    "sum_of_array(arr)"
   ]
  },
  {
   "cell_type": "markdown",
   "id": "f2d3d5d2",
   "metadata": {},
   "source": [
    "# 9.array multiplication divided by n"
   ]
  },
  {
   "cell_type": "code",
   "execution_count": 48,
   "id": "80a38122",
   "metadata": {},
   "outputs": [
    {
     "name": "stdout",
     "output_type": "stream",
     "text": [
      "2\n"
     ]
    }
   ],
   "source": [
    "arr=[1,2,3,4]\n",
    "n=11\n",
    "m=1\n",
    "for i in arr:\n",
    "    m=m*i\n",
    "    #print(i)\n",
    "#print(m)\n",
    "rem=m%n\n",
    "print(rem)"
   ]
  },
  {
   "cell_type": "markdown",
   "id": "f6186463",
   "metadata": {},
   "source": [
    "# 10. interchange first and last element in the list"
   ]
  },
  {
   "cell_type": "code",
   "execution_count": 50,
   "id": "9ad38c34",
   "metadata": {},
   "outputs": [],
   "source": [
    "lis=[1,2,3,4]\n",
    "temp=lis[0]\n",
    "lis[0]=lis[-1]\n",
    "lis[-1]=temp"
   ]
  },
  {
   "cell_type": "code",
   "execution_count": 51,
   "id": "daba60fe",
   "metadata": {},
   "outputs": [
    {
     "data": {
      "text/plain": [
       "[4, 2, 3, 1]"
      ]
     },
     "execution_count": 51,
     "metadata": {},
     "output_type": "execute_result"
    }
   ],
   "source": [
    "lis"
   ]
  },
  {
   "cell_type": "markdown",
   "id": "92140bff",
   "metadata": {},
   "source": [
    "# 11.swap positions in the list"
   ]
  },
  {
   "cell_type": "code",
   "execution_count": 52,
   "id": "7a729ec9",
   "metadata": {},
   "outputs": [],
   "source": [
    "def swap(lis,pos1,pos2):\n",
    "    lis[pos1],lis[pos2]=lis[pos2],lis[pos1]\n",
    "    return lis"
   ]
  },
  {
   "cell_type": "code",
   "execution_count": 53,
   "id": "a68a4ae7",
   "metadata": {},
   "outputs": [
    {
     "data": {
      "text/plain": [
       "[1, 6, 3, 4, 5, 2]"
      ]
     },
     "execution_count": 53,
     "metadata": {},
     "output_type": "execute_result"
    }
   ],
   "source": [
    "lis=[1,2,3,4,5,6]\n",
    "swap(lis,5,1)"
   ]
  },
  {
   "cell_type": "code",
   "execution_count": null,
   "id": "deb83199",
   "metadata": {},
   "outputs": [],
   "source": [
    "12.element is exist in the lkis"
   ]
  },
  {
   "cell_type": "code",
   "execution_count": 56,
   "id": "fff462f8",
   "metadata": {},
   "outputs": [
    {
     "name": "stdout",
     "output_type": "stream",
     "text": [
      "vikas\n",
      "['vikas']\n"
     ]
    }
   ],
   "source": [
    "my_str=input()\n",
    "new_str=my_str.split()\n",
    "print(new_str)"
   ]
  },
  {
   "cell_type": "code",
   "execution_count": 91,
   "id": "b0ae0b73",
   "metadata": {},
   "outputs": [],
   "source": [
    "def classification():\n",
    "    lst1=[]\n",
    "    lst2=[]\n",
    "    lst3=[]\n",
    "    lst4=[]\n",
    "    lst5=[]\n",
    "    dump=[]\n",
    "    n=int(input(\"Enter the number of element u want to enter:\"))\n",
    "    for i in range(n):\n",
    "        elements=input(\"Enter the elements:\")\n",
    "        lst1.append(elements)\n",
    "    for i in lst1:\n",
    "        if i[0]=='v':\n",
    "            lst2.append(i)\n",
    "        elif i[0]=='r':\n",
    "            lst3.append(i)\n",
    "        elif i[0]=='s':\n",
    "            lst4.append(i)\n",
    "        elif i[0]=='k':\n",
    "            lst5.append(i)\n",
    "        else:\n",
    "            dump.append(i)\n",
    "    print(\"\\noriginal list :\",lst1,\"\\n\",\"classification on v :\",lst2,'\\n',\"classification on r :\",lst3,\"\\n\",\"Classification on s\",lst4,\"\\n\",\"Classification on k\",lst5,\"\\n\",\"No match found :\",dump)"
   ]
  },
  {
   "cell_type": "code",
   "execution_count": 89,
   "id": "d223cb57",
   "metadata": {},
   "outputs": [
    {
     "name": "stdout",
     "output_type": "stream",
     "text": [
      "Enter the number of element u want to enter:3\n",
      "Enter the elements:vikas\n",
      "Enter the elements:sachin\n",
      "Enter the elements:neeraj\n",
      "\n",
      "original list : ['vikas', 'sachin', 'neeraj'] \n",
      " classification on v : ['vikas'] \n",
      " classification on r : [] \n",
      " Classification on s ['sachin'] \n",
      " Classification on k []  No match found : ['neeraj']\n"
     ]
    }
   ],
   "source": [
    "classification()"
   ]
  },
  {
   "cell_type": "code",
   "execution_count": 75,
   "id": "52d398eb",
   "metadata": {},
   "outputs": [],
   "source": [
    "lst2=[]\n",
    "lst3=[]\n",
    "lst4=[]\n",
    "lst5=[]\n",
    "dump=[]\n",
    "for i in lst1:\n",
    "    if i[0]=='v':\n",
    "        lst2.append(i)\n",
    "    elif i[0]=='r':\n",
    "        lst3.append(i)\n",
    "    elif i[0]=='s':\n",
    "        lst4.append(i)\n",
    "    elif i[0]=='k':\n",
    "        lst5.append(i)\n",
    "    else:\n",
    "        dump.append(i)"
   ]
  },
  {
   "cell_type": "code",
   "execution_count": 76,
   "id": "ebd9ffbc",
   "metadata": {},
   "outputs": [
    {
     "data": {
      "text/plain": [
       "['vikas']"
      ]
     },
     "execution_count": 76,
     "metadata": {},
     "output_type": "execute_result"
    }
   ],
   "source": [
    "lst2"
   ]
  },
  {
   "cell_type": "code",
   "execution_count": 92,
   "id": "e2e67627",
   "metadata": {},
   "outputs": [],
   "source": [
    "ls=[1,2,3]"
   ]
  },
  {
   "cell_type": "code",
   "execution_count": 93,
   "id": "522524bc",
   "metadata": {},
   "outputs": [],
   "source": [
    "ls.clear()"
   ]
  },
  {
   "cell_type": "code",
   "execution_count": 94,
   "id": "6d6cc669",
   "metadata": {},
   "outputs": [
    {
     "data": {
      "text/plain": [
       "[]"
      ]
     },
     "execution_count": 94,
     "metadata": {},
     "output_type": "execute_result"
    }
   ],
   "source": [
    "ls"
   ]
  },
  {
   "cell_type": "code",
   "execution_count": 95,
   "id": "54a1c98b",
   "metadata": {},
   "outputs": [
    {
     "name": "stdout",
     "output_type": "stream",
     "text": [
      "Enter the number of elements you want to enter: 3\n",
      "Enter the element: neeraj\n",
      "Enter the element: vikas\n",
      "Enter the element: suresh\n",
      "\n",
      "Original list: ['vikas', 'neeraj']\n",
      "Classification on v : ['vikas']\n",
      "Classification on r : []\n",
      "Classification on s : ['suresh']\n",
      "Classification on k : []\n"
     ]
    }
   ],
   "source": [
    "def classification():\n",
    "    classification_dict = {'v': [], 'r': [], 's': [], 'k': []}\n",
    "    dump = []\n",
    "\n",
    "    n = int(input(\"Enter the number of elements you want to enter: \"))\n",
    "    for _ in range(n):\n",
    "        element = input(\"Enter the element: \")\n",
    "        key = element[0].lower()\n",
    "\n",
    "        if key in classification_dict:\n",
    "            classification_dict[key].append(element)\n",
    "        else:\n",
    "            dump.append(element)\n",
    "\n",
    "    print(\"\\nOriginal list:\", list(classification_dict.values())[0] + dump)\n",
    "    for key, value in classification_dict.items():\n",
    "        print(\"Classification on\", key, \":\", value)\n",
    "\n",
    "classification()\n"
   ]
  },
  {
   "cell_type": "code",
   "execution_count": 100,
   "id": "5269e893",
   "metadata": {},
   "outputs": [],
   "source": [
    "ls=[1,2,3,4]\n",
    "ls1=[]"
   ]
  },
  {
   "cell_type": "code",
   "execution_count": 101,
   "id": "e6c3f270",
   "metadata": {},
   "outputs": [
    {
     "data": {
      "text/plain": [
       "[3, 6, 9, 12]"
      ]
     },
     "execution_count": 101,
     "metadata": {},
     "output_type": "execute_result"
    }
   ],
   "source": [
    "for i in ls:\n",
    "    ls1.append(i*3)\n",
    "ls1"
   ]
  },
  {
   "cell_type": "code",
   "execution_count": 102,
   "id": "c9912beb",
   "metadata": {},
   "outputs": [
    {
     "name": "stdout",
     "output_type": "stream",
     "text": [
      "a: ['akhilesh']\n",
      "k: ['kanishka']\n",
      "r: ['raunak', 'ravinder', 'raghav']\n",
      "s: ['shagla', 'sachin']\n",
      "v: ['vikas']\n"
     ]
    }
   ],
   "source": [
    "list1 = ['vikas','raunak','shagla','sachin','ravinder','akhilesh','raghav','kanishka']\n",
    "dict1 = {}\n",
    "for word in list1:\n",
    "    first_char = word[0]\n",
    "    if first_char in dict1:\n",
    "        dict1[first_char].append(word)\n",
    "    else:\n",
    "        dict1[first_char] = [word]\n",
    "\n",
    "for key in sorted(dict1.keys()):\n",
    "    print(f\"{key}: {dict1[key]}\")"
   ]
  },
  {
   "cell_type": "code",
   "execution_count": 104,
   "id": "dc794a52",
   "metadata": {},
   "outputs": [],
   "source": [
    "lst=[1,2,3]\n",
    "lst.sort()"
   ]
  },
  {
   "cell_type": "code",
   "execution_count": 105,
   "id": "b458bc77",
   "metadata": {},
   "outputs": [
    {
     "data": {
      "text/plain": [
       "2"
      ]
     },
     "execution_count": 105,
     "metadata": {},
     "output_type": "execute_result"
    }
   ],
   "source": [
    "lst[-2]"
   ]
  },
  {
   "cell_type": "code",
   "execution_count": 106,
   "id": "117e53e3",
   "metadata": {},
   "outputs": [],
   "source": [
    "lst=[1,2,354,8,23,14,56]\n",
    "lst.sort()"
   ]
  },
  {
   "cell_type": "code",
   "execution_count": 111,
   "id": "1ee3923b",
   "metadata": {},
   "outputs": [
    {
     "name": "stdout",
     "output_type": "stream",
     "text": [
      "input5\n"
     ]
    },
    {
     "data": {
      "text/plain": [
       "23"
      ]
     },
     "execution_count": 111,
     "metadata": {},
     "output_type": "execute_result"
    }
   ],
   "source": [
    "\n",
    "n=int(input(\"input\"))\n",
    "size=len(lst)\n",
    "lst[n-1]"
   ]
  },
  {
   "cell_type": "code",
   "execution_count": 116,
   "id": "dbd895ec",
   "metadata": {},
   "outputs": [
    {
     "data": {
      "text/plain": [
       "[1, 2, 8, 14, 23, 56, 354]"
      ]
     },
     "execution_count": 116,
     "metadata": {},
     "output_type": "execute_result"
    }
   ],
   "source": [
    "lst"
   ]
  },
  {
   "cell_type": "code",
   "execution_count": 117,
   "id": "9502bb0a",
   "metadata": {},
   "outputs": [
    {
     "data": {
      "text/plain": [
       "[2, 8, 14, 56, 354]"
      ]
     },
     "execution_count": 117,
     "metadata": {},
     "output_type": "execute_result"
    }
   ],
   "source": [
    "ls1\n",
    "for i in lst:\n",
    "    if i%2==0:\n",
    "        ls1.append(i)\n",
    "ls1\n",
    "    "
   ]
  },
  {
   "cell_type": "code",
   "execution_count": 115,
   "id": "396d9b79",
   "metadata": {},
   "outputs": [],
   "source": [
    "ls1.clear()"
   ]
  },
  {
   "cell_type": "code",
   "execution_count": 121,
   "id": "2c7bf749",
   "metadata": {},
   "outputs": [
    {
     "name": "stdout",
     "output_type": "stream",
     "text": [
      "1\n",
      "3\n",
      "5\n",
      "7\n",
      "9\n"
     ]
    }
   ],
   "source": [
    "for i in range(1,10):\n",
    "    if i%2==0:\n",
    "        pass\n",
    "    else:\n",
    "        print(i)"
   ]
  },
  {
   "cell_type": "code",
   "execution_count": 122,
   "id": "82d0a871",
   "metadata": {},
   "outputs": [],
   "source": [
    "ls=[-1,3,5,-6]"
   ]
  },
  {
   "cell_type": "code",
   "execution_count": 123,
   "id": "97f1ea69",
   "metadata": {},
   "outputs": [
    {
     "name": "stdout",
     "output_type": "stream",
     "text": [
      "3\n",
      "5\n"
     ]
    }
   ],
   "source": [
    "for i in ls:\n",
    "    if i>0:\n",
    "        print(i)"
   ]
  },
  {
   "cell_type": "code",
   "execution_count": 124,
   "id": "4b9fba63",
   "metadata": {},
   "outputs": [],
   "source": []
  },
  {
   "cell_type": "code",
   "execution_count": 132,
   "id": "27009134",
   "metadata": {},
   "outputs": [
    {
     "name": "stdout",
     "output_type": "stream",
     "text": [
      "2\n"
     ]
    }
   ],
   "source": [
    "ls=[1,3,3,5,5,6]\n",
    "n=5\n",
    "count=0\n",
    "\n",
    "for i in ls:\n",
    "    if n==i:\n",
    "        count=count+1\n",
    "print(count)\n",
    "    "
   ]
  },
  {
   "cell_type": "code",
   "execution_count": null,
   "id": "2e7ef47a",
   "metadata": {},
   "outputs": [],
   "source": []
  }
 ],
 "metadata": {
  "kernelspec": {
   "display_name": "Python 3 (ipykernel)",
   "language": "python",
   "name": "python3"
  },
  "language_info": {
   "codemirror_mode": {
    "name": "ipython",
    "version": 3
   },
   "file_extension": ".py",
   "mimetype": "text/x-python",
   "name": "python",
   "nbconvert_exporter": "python",
   "pygments_lexer": "ipython3",
   "version": "3.11.3"
  }
 },
 "nbformat": 4,
 "nbformat_minor": 5
}
